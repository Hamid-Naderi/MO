{
 "cells": [
  {
   "cell_type": "code",
   "execution_count": 57,
   "metadata": {},
   "outputs": [],
   "source": [
    "import numpy as np\n",
    "import matplotlib.pyplot as plt\n",
    "import matplotlib.image as mpimg\n",
    "from PIL import Image\n",
    "from scipy.ndimage import gaussian_filter\n",
    "from numpy import linalg as LA"
   ]
  },
  {
   "cell_type": "code",
   "execution_count": 73,
   "metadata": {},
   "outputs": [],
   "source": [
    "phantom_no_lesion_atn = np.fromfile('F:\\\\Master courses\\\\Praktikum\\\\files\\\\Lesion20mm\\\\20mm\\\\20mm_atn_av.bin', dtype='float32').reshape(-1, 256, 256)\n",
    "phantom_no_lesion_act = np.fromfile('F:\\\\Master courses\\\\Praktikum\\\\files\\\\Lesion20mm\\\\20mm\\\\20mm_act_av.bin', dtype='float32').reshape(-1, 256, 256)\n",
    "phantom_with_lesion_atn = np.fromfile('F:\\\\Master courses\\\\Praktikum\\\\files\\\\Lesion20mm\\\\20mm_combined\\\\20_cmbd_atn_av.bin', dtype='float32').reshape(-1, 256, 256)\n",
    "phantom_with_lesion_act = np.fromfile('F:\\\\Master courses\\\\Praktikum\\\\files\\\\Lesion20mm\\\\20mm_combined\\\\20_cmbd_act_av.bin', dtype='float32').reshape(-1, 256, 256)\n",
    "phantom_tumor_mask_atn = np.fromfile('F:\\\\Master courses\\\\Praktikum\\\\files\\\\Lesion20mm\\\\20mm_tumor\\\\20mm_tumor_atn_av.bin', dtype='float32').reshape(-1, 256, 256)\n",
    "phantom_tumor_mask_act = np.fromfile('F:\\\\Master courses\\\\Praktikum\\\\files\\\\Lesion20mm\\\\20mm_tumor\\\\20mm_tumor_act_av.bin', dtype='float32').reshape(-1, 256, 256)\n",
    "\n",
    "phantom_no_lesion=phantom_no_lesion_act\n",
    "phantom_with_lesion=phantom_with_lesion_act\n",
    "phantom_tumor_mask=phantom_tumor_mask_act"
   ]
  },
  {
   "cell_type": "code",
   "execution_count": 74,
   "metadata": {},
   "outputs": [
    {
     "data": {
      "image/png": "iVBORw0KGgoAAAANSUhEUgAAAXcAAACFCAYAAACg7bhYAAAABHNCSVQICAgIfAhkiAAAAAlwSFlzAAALEgAACxIB0t1+/AAAADh0RVh0U29mdHdhcmUAbWF0cGxvdGxpYiB2ZXJzaW9uMy4xLjAsIGh0dHA6Ly9tYXRwbG90bGliLm9yZy+17YcXAAAKTElEQVR4nO3dT4ic933H8fenkn1Ki+w6NousNinsIbpFiFSQUgLGIPsiXwxRIRbGsBcFEshF+JJTwe0htKbBsDQmMoQEQ0Ktg0owIpDmYGMlpP5T4VgN1N56kXBNHLc+pKLfHuaRO13P7B9pZp5nf/N+wTDP/PbZna/nu/rs/L47O05VIUlqy+/1XYAkafYMd0lqkOEuSQ0y3CWpQYa7JDXIcJekBs0l3JOcTPJmkqtJzs3jPiRJ02XWr3NPcgD4FfAgsAG8Apyuqn+Z6R1JkqaaxzP3LwBXq+rXVfU74AfAqTncjyRpioNz+JqHgXfGbm8Af7rdJyTxz2SH472q+vS0DyY5CfwtcAD4+6p6amGVaW7sa3vm8cw9E9Y+Ed5J1pJcTnJ5DjXo1v3btA90I7dvAw8BR4HTSY4uqjDNh31t0zzCfQM4Mnb7fuDdrSdV1XpVHa+q43OoQfPhyK1N9rVB8xjLvAKsJvks8O/Al4G/mMP9aPH2NHJz3DYo243b7Ov+NbWvMw/3qrqR5KvAjxnN756tqjdmfT/qxY4jtyRrwNpiytEeTB23YV/3s6l9ncczd6rqInBxHl9bvdpx5FZV68A6+AxvH7GvDfIvVLUXH4/cktzJaOR2oeeadPvsa4Pm8sxdbXLk1ib72ibDXXviyK1N9rU9jmUkqUGGuyQ1yHCXpAYZ7pLUIMNdkhpkuEtSgwx3SWqQ4S5JDTLcJalBhrskNchwl6QGGe6S1CDDXZIaZLhLUoMMd0lqkOEuSQ0y3CWpQYa7JDXIcJekBhnuktQgw12SGmS4S1KDDHdJapDhLkkNMtwlqUGGuyQ1yHCXpAbtGO5Jnk1yPcnrY2t3J3kxyVvd9V3depI8neRqkleTHJtn8ZKkyXbzzP27wMkta+eAS1W1ClzqbgM8BKx2lzXgmdmUKUnaix3Dvap+Cry/ZfkUcL47Pg88Mrb+XI28BBxKsjKrYiVJu3OrM/f7qmoToLu+t1s/DLwzdt5Gt/YJSdaSXE5y+RZr0HysOm5r0gFHqctl1r9QzYS1mnRiVa1X1fGqOj7jGnR7PnTc1qQVHKUulVsN92s3xy3d9fVufQM4Mnbe/cC7t16eevAf3bXjtrYcwlHqUrnVcL8AnOmOzwAvjK0/1m31TgAf3BzfaN/4b3Dc1qCDtzNKta/7z8GdTkjyfeBLwD1JNoBvAk8Bzyd5AngbeLQ7/SLwMHAV+Ah4fA41a/H2NG4D1gGSTDxHg7Kr3trX/WfHcK+q01M+9MCEcws4e7tFqVd3gOO2Bt1IslJVm/Z2OfgXqtrqD7trx21t+Q2OUpfKjs/ctXT+IMlbOG5rzSbwoKPU5ZHRJKXnIpzhDcnPZ/XyVPs6KPa1TVP76lhGkhpkuEtSgwx3SWqQ4S5JDTLcJalBhrskNchwl6QGGe6S1CDDXZIaZLhLUoMMd0lqkOEuSQ0y3CWpQYa7JDXIcJekBhnuPagqhvA++pLaZbj3yICXNC+G+4IZ6JIWwXCXpAYZ7guWZOKxJM3Swb4LWEaGuqR5M9ylGRn/fYo/wNu1X/rsWEaaAX9Rvhy29nnIfTfcJalBhrs0A0Penmt2tvZ5yH135i7NyJD/oWt29kufd3zmnuRIkp8kuZLkjSRf69bvTvJikre667u69SR5OsnVJK8mOTbv/whJ0v+3m7HMDeAbVfU54ARwNslR4BxwqapWgUvdbYCHgNXusgY8M/OqJUnb2jHcq2qzqn7RHX8IXAEOA6eA891p54FHuuNTwHM18hJwKMnKzCuXJE21p1+oJvkM8HngZeC+qtqE0Q8A4N7utMPAO2OfttGtbf1aa0kuJ7m897I1RwcctzXJvi6ZXYd7kk8BPwS+XlW/3e7UCWufeDFoVa1X1fGqOr7bGrQQKzhua5F9XTK7CvckdzAK9u9V1Y+65Ws3xy3d9fVufQM4Mvbp9wPvzqZcLcAhHLe1yL4umd28WibAd4ArVfWtsQ9dAM50x2eAF8bWH+u2eyeAD26Ob7QvHLydcZsGy74umd28zv2LwFeA15L8slt7EngKeD7JE8DbwKPdxy4CDwNXgY+Ax2dasfqyq3FbkjVG23vtD/a1UTuGe1X9jMnfAAAPTDi/gLO3WZf6cyPJSlVt3sq4rarWgXWAJMN9443lY1+XjG8/oK1+g+O2FtnXJePbD2irTeBBx23Nsa9LJkN4y0q3eYPy81m9PNW+Dop9bdPUvjqWkaQGGe6S1CDDXZIaZLhLUoMMd0lqkOEuSQ0y3CWpQYa7JDXIcJekBhnuktQg31tG8/SfwJt9FzHFPcB7fRcxwbzq+uMZfq33gP9iuR6/WZhHbVP7arhrnt4c6v9GMcnlIdY21LrGVdWnh1rnUOuCxdfmWEaSGjSUZ+5u3/duP2zfJfVkKOHu9n2PhlrXFut9F7CNodY21Lq2GmqdQ60LFlzbUN7PfbBBNdTahlqXpGFw5i5JDRpKuLuV2ruh1gVAkpNJ3kxyNcm5Hu7/2STXk7w+tnZ3kheTvNVd39WtJ8nTXa2vJjk2x7qOJPlJkitJ3kjytaHUtsv67evkuobX16ry4mWmF+AA8K/AnwB3Av8MHF1wDX8OHANeH1v7a+Bcd3wO+Kvu+GHgH4EAJ4CX51jXCnCsO/594FfA0SHUZl/b6utQnrmrLV8ArlbVr6vqd8APgFOLLKCqfgq8v2X5FHC+Oz4PPDK2/lyNvAQcSrIyp7o2q+oX3fGHwBXg8BBq2wX7Or2uwfW193Dvc5s31C1ed3/D2+bt3mHgnbHbG91a3+6rqk0Y/WME7u3We6k3yWeAzwMvD622KYZUy7hBPXZD6Wuv4Z7kAPBt4CFGW5jTSY4usITvAie3rJ0DLlXVKnCpuw2jGle7yxrwzJxruwF8o6o+x2jbdrZ7bIZS33YyYa3/l2VNt/B6k3wK+CHw9ar67XanTljr67EcUi27sdR97fuZe6/bvKFu8braBrfN24MN4MjY7fuBd3uqZdy1m49Jd329W19ovUnuYBQA36uqHw2pth0MqZZxg3jshtbXvsN9iNu8QW3xYDjbvD14BVhN8tkkdwJfBi70VMu4C8CZ7vgM8MLY+mPdaOsE8MHNx3jWkgT4DnClqr41pNp2wb5OMcS+9v0Xqvtpm9dLrVu3eaPvocmnTljr5bGsqhtJvgr8mNErLJ6tqjcWWUOS7wNfAu5JsgF8E3gKeD7JE8DbwKPd6RcZvXrhKvAR8PgcS/si8BXgtSS/7NaeHEht27Kv2xpcX/sO9yFu864lWamqzb63x9tt84ZQ33aq6iKjb+C+7v/0lA89MOHcAs7Ot6KP7+tnTP5BDD3Xthv2dbIh9rXvscwQt3m9b/FgmNs8SftH7+8tk+Rh4G/4v23eXy7wvj/e4gHXGG3x/gF4Hvgjum1UVb3fhe3fMXp1zUfA41V1eY61/RnwT8BrwP90y08ymrv3Xp+kYes93CVJs9f3WEaSNAeGuyQ1yHCXpAYZ7pLUIMNdkhpkuEtSgwx3SWqQ4S5JDfpfAufZ+wyxT1MAAAAASUVORK5CYII=\n",
      "text/plain": [
       "<Figure size 432x288 with 3 Axes>"
      ]
     },
     "metadata": {
      "needs_background": "light"
     },
     "output_type": "display_data"
    }
   ],
   "source": [
    "fig = plt.figure()\n",
    #### init#######
    "a = fig.add_subplot(1, 3, 1)\n",
    "imgplot = plt.imshow(phantom_tumor_mask[175,:,:],cmap='gray')\n",
    "a = fig.add_subplot(1, 3, 2)\n",
    "imgplot = plt.imshow(phantom_tumor_mask[:,170,:],cmap='gray')\n",
    "a = fig.add_subplot(1, 3, 3)\n",
    "imgplot = plt.imshow(phantom_tumor_mask[:,:,160],cmap='gray')\n"
   ]
  },
  {
   "cell_type": "code",
   "execution_count": 75,
   "metadata": {},
   "outputs": [
    {
     "data": {
      "image/png": "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\n",
      "text/plain": [
       "<Figure size 432x288 with 3 Axes>"
      ]
     },
     "metadata": {
      "needs_background": "light"
     },
     "output_type": "display_data"
    }
   ],
   "source": [
    "fig = plt.figure()\n",
    "a = fig.add_subplot(1, 3, 1)\n",
    "imgplot = plt.imshow(phantom_with_lesion[175,:,:],cmap='gray')\n",
    "a = fig.add_subplot(1, 3, 2)\n",
    "imgplot = plt.imshow(phantom_with_lesion[:,170,:],cmap='gray')\n",
    "a = fig.add_subplot(1, 3, 3)\n",
    "imgplot = plt.imshow(phantom_with_lesion[:,:,160],cmap='gray')"
   ]
  },
  {
   "cell_type": "code",
   "execution_count": 76,
   "metadata": {},
   "outputs": [],
   "source": [
    "new_masked_image=np.multiply(phantom_with_lesion,phantom_tumor_mask)\n"
   ]
  },
  {
   "cell_type": "code",
   "execution_count": 77,
   "metadata": {},
   "outputs": [
    {
     "data": {
      "image/png": "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\n",
      "text/plain": [
       "<Figure size 432x288 with 3 Axes>"
      ]
     },
     "metadata": {
      "needs_background": "light"
     },
     "output_type": "display_data"
    }
   ],
   "source": [
    "fig = plt.figure()\n",
    "a = fig.add_subplot(1, 3, 1)\n",
    "imgplot = plt.imshow(phantom_with_lesion[175,:,:],cmap='gray')\n",
    "a = fig.add_subplot(1, 3, 2)\n",
    "imgplot = plt.imshow(phantom_tumor_mask[175,:,:],cmap='gray')\n",
    "a = fig.add_subplot(1, 3, 3)\n",
    "imgplot = plt.imshow(new_masked_image[175,:,:],cmap='gray')\n"
   ]
  },
  {
   "cell_type": "code",
   "execution_count": 78,
   "metadata": {},
   "outputs": [
    {
     "name": "stdout",
     "output_type": "stream",
     "text": [
      "8617527.0\n"
     ]
    }
   ],
   "source": [
    "print (LA.norm(new_masked_image[175,:,:], 'fro'))"
   ]
  },
  {
   "cell_type": "code",
   "execution_count": 79,
   "metadata": {},
   "outputs": [
    {
     "name": "stdout",
     "output_type": "stream",
     "text": [
      "22719068.0\n"
     ]
    }
   ],
   "source": [
    "print(np.sqrt(np.sum(np.square(new_masked_image[:,:,:]))))"
   ]
  },
  {
   "cell_type": "code",
   "execution_count": 80,
   "metadata": {},
   "outputs": [],
   "source": [
    "new_phantom_with_lesion=gaussian_filter(phantom_with_lesion, sigma=(0.5,0.5,0.5))\n",
    "new_phantom_no_lesion=gaussian_filter(phantom_no_lesion, sigma=(0.5,0.5,0.5))"
   ]
  },
  {
   "cell_type": "code",
   "execution_count": 81,
   "metadata": {},
   "outputs": [],
   "source": [
    "masekd_new_phantom_with_lesion=(np.multiply(new_phantom_with_lesion,phantom_tumor_mask))\n",
    "masked_new_phantom_no_lesion=(np.multiply(new_phantom_no_lesion,phantom_tumor_mask))"
   ]
  },
  {
   "cell_type": "code",
   "execution_count": 82,
   "metadata": {},
   "outputs": [
    {
     "data": {
      "image/png": "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\n",
      "text/plain": [
       "<Figure size 432x288 with 3 Axes>"
      ]
     },
     "metadata": {
      "needs_background": "light"
     },
     "output_type": "display_data"
    }
   ],
   "source": [
    "fig = plt.figure()\n",
    "a = fig.add_subplot(1, 3, 1)\n",
    "imgplot = plt.imshow(new_phantom_with_lesion[175,:,:],cmap='gray')\n",
    "\n",
    "a = fig.add_subplot(1, 3, 2)\n",
    "imgplot = plt.imshow(phantom_tumor_mask[175,:,:],cmap='gray')\n",
    "a = fig.add_subplot(1, 3, 3)\n",
    "imgplot = plt.imshow(masekd_new_phantom_with_lesion[175,:,:],cmap='gray')\n"
   ]
  },
  {
   "cell_type": "code",
   "execution_count": 83,
   "metadata": {},
   "outputs": [
    {
     "name": "stdout",
     "output_type": "stream",
     "text": [
      "21230308.0\n"
     ]
    }
   ],
   "source": [
    "print(np.sqrt(np.sum(np.square(masekd_new_phantom_with_lesion[:,:,:]))))"
   ]
  },
  {
   "cell_type": "code",
   "execution_count": 84,
   "metadata": {},
   "outputs": [
    {
     "data": {
      "image/png": "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\n",
      "text/plain": [
       "<Figure size 432x288 with 3 Axes>"
      ]
     },
     "metadata": {
      "needs_background": "light"
     },
     "output_type": "display_data"
    }
   ],
   "source": [
    "fig = plt.figure()\n",
    "a = fig.add_subplot(1, 3, 1)\n",
    "imgplot = plt.imshow(new_phantom_no_lesion[175,:,:],cmap='gray')\n",
    "\n",
    "a = fig.add_subplot(1, 3, 2)\n",
    "imgplot = plt.imshow(phantom_tumor_mask[175,:,:],cmap='gray')\n",
    "a = fig.add_subplot(1, 3, 3)\n",
    "imgplot = plt.imshow(masked_new_phantom_no_lesion[175,:,:],cmap='gray')\n"
   ]
  },
  {
   "cell_type": "code",
   "execution_count": 85,
   "metadata": {},
   "outputs": [
    {
     "name": "stdout",
     "output_type": "stream",
     "text": [
      "5669685.5\n"
     ]
    }
   ],
   "source": [
    "print(np.sqrt(np.sum(np.square(masked_new_phantom_no_lesion[:,:,:]))))"
   ]
  },
  {
   "cell_type": "code",
   "execution_count": 89,
   "metadata": {},
   "outputs": [],
   "source": [
    "def delta (x,y):\n",
    "    if x>y:\n",
    "        return 1\n",
    "    if x<y:\n",
    "        return 0\n",
    "    if x==y:\n",
    "        return 0.5"
   ]
  },
  {
   "cell_type": "code",
   "execution_count": 91,
   "metadata": {
    "scrolled": true
   },
   "outputs": [
    {
     "name": "stdout",
     "output_type": "stream",
     "text": [
      "[22719068.    10291330.     4009801.75   2082498.375  1412079.875]\n",
      "[6647735.5   2679849.5   1607351.25  1174813.25   992704.875]\n",
      "sum:   19\n",
      "AUC:   0.76\n"
     ]
    }
   ],
   "source": [
    "PWL=np.zeros(5)\n",
    "PNL=np.zeros(5)\n",
    "sum=0\n",
    "for i in range(len(PWL)):\n",
    "    new_image=gaussian_filter(phantom_with_lesion, sigma=(3*i,3*i,3*i))\n",
    "    new_masked_image=(np.multiply(new_image,phantom_tumor_mask))\n",
    "    PWL[i]=np.sqrt(np.sum(np.square(new_masked_image[:,:,:])))\n",
    "    ##########\n",
    "    new_image=gaussian_filter(phantom_no_lesion, sigma=(3*i,3*i,3*i))\n",
    "    new_masked_image=(np.multiply(new_image,phantom_tumor_mask))\n",
    "    PNL[i]=np.sqrt(np.sum(np.square(new_masked_image[:,:,:])))\n",
    "    #########\n",
    "\n",
    "    for j in range(len(PNL)):\n",
    "        sum+=delta(PWL[i],PNL[j])\n",
    "print(PWL)\n",
    "print(PNL)\n",
    "AUC=(1/(len(PNL)*len(PWL)))*sum\n",
    "print (\"sum:  \",sum)\n",
    "print (\"AUC:  \",AUC)"
   ]
  },
  {
   "cell_type": "code",
   "execution_count": 93,
   "metadata": {},
   "outputs": [
    {
     "data": {
      "image/png": "iVBORw0KGgoAAAANSUhEUgAAAXcAAABsCAYAAACRpvISAAAABHNCSVQICAgIfAhkiAAAAAlwSFlzAAALEgAACxIB0t1+/AAAADh0RVh0U29mdHdhcmUAbWF0cGxvdGxpYiB2ZXJzaW9uMy4xLjAsIGh0dHA6Ly9tYXRwbG90bGliLm9yZy+17YcXAAAQdElEQVR4nO2dT2wc133HPz/u8q82pEgqYoSVWKeAL7nFNVID7SGXArYv6sEp0kOtBIF0KAooQA8R2oN1dHsIoABFAAkJagNB08AJYB9iFIbRoCcbro3UaSo4VoxYlixLoEya5FLc5S5fD5w3fhzNcpfkzs5y9vsBBjP7dv68+XL43Te/95s35pxDCCFEsRjJuwJCCCF6j8xdCCEKiMxdCCEKiMxdCCEKiMxdCCEKiMxdCCEKSCbmbmZPmtl7ZnbDzC5lcYxhRvpmh7TNDmnbX6zXee5mVgJ+B/wFcAt4C/hr59z/9fRAQ4r0zQ5pmx3Stv9k0XL/GnDDOfeBc64B/BQ4m8FxhhXpmx3SNjukbZ/JwtyrwEfB51tRmegN0jc7pG12SNs+U85gn5ZS9lDsx8wuABeij3+SQT2KxpJz7ot0oa+03TddawvS9wAsAX+bUi5tD4+/dh8iC3O/BZwJPp8GPk6u5Jy7ClwFMDMNcNOZD6N5R32l7b7pWluQvgfgQ6RtVnzY7osswjJvAY+a2ZfNbAz4JvBKBscZVqRvdkjb7JC2fabnLXfnXNPM/g74D6AE/Ng599teH2dYkb7ZIW2zQ9r2n56nQh6oErr96oa3nXOP73cjadsVB9IWpG+X6NrNjrba6glVIYQoIDJ3IYQoIDJ3IYQoIDJ3IYQoIDJ3IYQoIDJ3IYQoIDJ3IYQoIDJ3IYQoIDJ3IYQoIDJ3IYQoIDJ3IYQoIDJ3IYQoIDJ3IYQoIDJ3IYQoIFm8iUkMOWZpb6s7GIMwJLUQRxGZu+gJ7Qw9rdzMujJt51y8vUxeiP0hcxcHJjTudsudvmtn2t7Yk9/L5IXoDpm7OBDepMN5J7Nv17pPM2znnIxdiEMgcxf7JmnoyandemGZZy9jD6ft7e2O2wkhPkfmLvZF0rBHRkbaGnwvzH17eztexxu8jF2IznRMhTSzH5vZPTP736BszsxeM7P3o/lsVG5m9gMzu2Fm75rZY1lWftjIW9/QoEdGRuKpVCpRKpUol8u7pmTZ6OjoQ+ukTaOjo7vWLZVK8bHS7hB6dG66djNE2vafbvLc/xV4MlF2CXjdOfco8Hr0GeAp4NFougD8sDfVFBG56xuaa9Lc/RSWhT8CyXXTtk2bwu33ugs4JLlrW2BmkLZ9p2NYxjn3X2b2SKL4LPD1aPkF4FfA96LyF93OffMbZnbczE455+70qsJZs7i4SKvVAqBUKnHz5s2ca7SL3PRtZ+rhfGRkJF633bbJ1EY/Txq2D8u0Wq1d+/Ohmm7TKffBkb92B5jjSNu+c9AnVBf8Hyaan4zKq8BHwXq3ojLRG3LRNy3OvldLPC2EktbZmpyS+01b3mufh0TXbnaMIm37Tq87VNP+01KbV2Z2gZ1btIFiPy31arXK7du3M6zNQ3SlbxbaprXay+XyLvPd64GjZAs9bLmnmT4Q77PVaj3U0k9LlTzsKaaUHalr94ghbTPmoC33u2Z2CiCa34vKbwFngvVOAx+n7cA5d9U597hz7vED1iF3bt++zeXLl/t5yK707aW23bSwQ3NPhl7SUhrDKfwuPKbfXzLuvldWziEZqmu3z2whbfvOQc39FeBctHwOeDkofzbKPHgC+GyQ4mpZGHGfzb2v+iZb1O2yY5LmmzTzVqvVcQrNPu14yWNlEJYZ6Gv3iLOCtO07HcMyZvZv7HSenjCzW8BzwPPAz8zsO8BN4BvR6r8EngZuABvAtzOo84G4fPlyv404C3LRd68MmbAjNWyBhznqncInoUGPjIzsMvgwRNMua6ZHDOy1WwA+Az5A2vYVG4QHQsws80rkEB/vNW8f5Fb1MNomDd23nsfGxuJ89LC17lvgzWYztTUekgzD+B+KML89jLm3Wi2azSb1ep1ms8nW1tauVv8hr+MDaRvVPf9/oMGn79fuENFW26F5QvWIG3vfSevkbBdrB+L0RHg41h6S7Bj1hOmNyZZ7uVyO10lrte/VkSvEsDIUL+soQDgmF9qFY5JPlPrytDBJu9z4MLtmr+MnUyIzjLkLUShk7kfoGHmQNPg0c0/r6AxDOaOjo4yNjTE+Ph5PPvyS9qMQZskk7xgyjLkLUSiGJiwjDke7sEy7Tk8g/t637sOO12azGU9+QLC0tMtSqRRv40M3MnYhOiNz7xFFarmH+eOdQjM+Tg7E38GOGZdKJUZHR3e11AGazSaNRoNGo8Hm5mZs8Mm8dr/sv0sbW8ZPircLsRuFZURH0kIzocmnjf44Pj7O5OQkx44dY2ZmhtnZWebn5+NpenqaSqXC1NRUbP5pDyyFx/N1EUJ0Ziha7teuXcu7CkeavVrvPi/dz33LvVQqMTU1RaVS4fjx4xw7dozJyUkA6vU6a2trrK2tsby8zMbGRtyCT/5QjIyM7MrEEUJ0x1C03M+fP5/p/ot4Z5DWyRkafFoHqx+HfWJigqmpKWZmZpibm2NhYYFTp05RrVapVqucPn2ahYUF5ubmmJmZoVKpMDExwcTExJ7juAshumcoWu774aWXXgLgmWee6XqbIt8ZpOWTh7FxH0f3nwFGR0eZnJzkxIkTzM/PU61WmZ2dZWZmBoAHDx5w9+5dKpVKnFEDxA8mhXcHSZJPwWYwgJgQhWAozH0/Lev9mLrn/PnzhWy9dyIM02xvb8ct7bGxsTgcMz8/z8LCAidOnGB2dhaAjY2N+C6gVqvRarXY2tqKQzMev98QGboQ3TEU5g7djy3jW+7QvdEX2djThthNGqvPivFpj1NTU0xPT8fGXq1WOXnyJPPz85gZ6+vr8V3A+vo6rVaLer1OuVymXq/Hwwn44QvC4+/19KsQ4nOGxty7CZ0U2aT3SzjOenIwsORYLmHaYhhzr1QqVCoVpqenmZmZYWZmJg7prK6usra2RqVSYX19nampqXi/Ye67P25yHJl2PzRCiB0K26G6uLjI4uJi/LmbTlX/A7C8vNzVMYblxyBtHHb/AJI3Wm/aPg1yYmIiTof0naW+zC9PTk7u+j6ZD++PHZp6chx4IUQ6hTV3IH4XKnQ24mq1ypUrV7h48WIcGw5DNCFFN5a0Dsu0sdm9yfty2P2iDb8PH1NvNBrxPPlkalpWjN+vH2UyOdKkQjT7R1plxyeffML169fzrkZMYc395s2b3L59m2p196sak7H3y5cv71rnypUr8fLFixcfMvhw2+eeew7YuUtIHqcopBl7o9GgXq9Tr9fj5a2trXgo3q2tLer1Opubm6yvr7O8vMz9+/e5d+8ed+/eZWlpieXlZVZXV9nY2IjN3ht5uJ9wv+FQwjKpwyHtes/Gxga1Wo1XX30176oAQxBz9wbvh/z15u7N+Nq1a7Ghd+pATbb+fSuz1Wqlpu0ddXy4JTR4b76lUol6vQ4QPz3q55ubm4yOjrK+vh6HZprNJhsbG/H3S0tLfPrpp6ytrVGr1djc3Ix/JMIfiPCHo5tx4kV36LmB3rO8vMzy8jJPPfVU3lUBhuhlHYuLi/t6+XU3VKtVSqVSz/fbhtxf1uHz2sfGxuKO03K5zMTEBGNjY/HcDyswNzfH9PQ0J06coFKpxE+oNhoNVlZWWF1dZWlpidXVVVZWVtjc3OTBgwexsTebzTg90s8bjUbbztVDoJd1ZIte1pEdellHFgbcR2PPjbDV7t+K5HPRzSyOm/tWdaPRYHt7m62tLZxzcYt8cnKS8fFxYMfca7UatVqNlZUVNjY2WFtb2xXi8aGaMDTj4/RqtQvRmaEx9ywYBmMPR1wM0xPDrJmtrS3K5TKNRoNyuczm5iZjY2PUajXGx8e5f/9+3NoH4pZ4vV6nVqvF8Xlv6uGr+sKhgX2LXR2pQnSmmxdknwFeBL4EbANXnXNXzGwO+HfgEeAPwF8555ZtJ5h3hZ2XDW8A33LOvZNN9YeLPLQNzTOZex52tIaxeG/y9Xo9jr37UR/9Nn7IXz/5oQfC7JtkNk6YDtljUy9BPvoOC9K2/3TTcm8Cf++ce8fMvgC8bWavAd8CXnfOPW9ml4BLwPeAp4BHo+lPgR9Gc3F4ctE2NFLfcvYtdz8WTPhKPD/3g3+FL/bw+wtfep1McwxDL3vlt/fQ4L8UzXXtZoe07TMdzd05dwe4Ey2vmdl1oAqcBb4erfYC8Ct2zP0s8KLb+c97w8yOm9mpaD/icOSmbbIF78M14Uurw0G/vNmH89Dck0Yemrg/xl5DDvS45T4bzXXtZoe07TP7irmb2SPAV4E3gQX/h3HO3TGzk9FqVeCjYLNbUZn+iIcnV21DQ/XxeN+p2u4NScnJb9uNcbcrywD/f6BrNzukbZ/p2tzNrAL8HPiuc251jzzZtC8e+o80swvAhW6PL4AB0TaZ/x52uoYG7+dp10o7006ad/IHJWMGQt+CIm37TFfmbmaj7Bj7T5xzv4iK7/rbKjM7BdyLym8BZ4LNTwMfJ/fpnLsKXI32r5SH7hgYbdNa8cnybh+UaWfafcyE8eMMD4y+BUTa9pmOww9Evdw/Aq47574ffPUKcC5aPge8HJQ/azs8AXymuFrPGFht9wq1HHTqIyvRfGD1LQDSts9003L/M+BvgN+Y2a+jsn8Angd+ZmbfAW4C34i++yU76U432El5+nZPazzcHCltj1AOujeZI6XvEUPa9pmhGX6gAOgR7uzQ8APZoms3O9pqW9hRIYUQYpiRuQshRAGRuQshRAGRuQshRAGRuQshRAGRuQshRAGRuQshRAGRuQshRAGRuQshRAGRuQshRAGRuQshRAEZlBdkrwPv5V2JjDkBLB1i+z864HZLQO2Qxx508tIWdO12w0H1lbadaavtoJj7ewcduOmoYGb/ncc5Oue+mNex+0XO56drNzuk7SFQWEYIIQqIzF0IIQrIoJj71bwr0AfyPMei6yttsyWvc5S2h2AgXtYhhBCitwxKy10IIUQPyd3czexJM3vPzG6Y2aW863MQzOyMmf2nmV03s9+a2cWofM7MXjOz96P5bFRuZvaD6JzfNbPHMqrXkdcWBlNfaatrtxO5a5vFW+v38Xb7EvB74I+BMeB/gK/kWacDnscp4LFo+QvA74CvAP8MXIrKLwH/FC0/DbwKGPAE8Ka0PTr6Sltdu0dB27xb7l8DbjjnPnDONYCfAmdzrtO+cc7dcc69Ey2vAdeBKjvn8kK02gvAX0bLZ4EX3Q5vAMfN7FSPq1UIbWEg9ZW2unY7kre2eZt7Ffgo+HwrKjuymNkjwFeBN4EF59wd2PlDAyej1fpx3oXTFgZGX2n7Obp2uyAPbfM2d0spO7LpO2ZWAX4OfNc5t7rXqillvT7vQmkLA6WvtN2Nrt09yEvbvM39FnAm+Hwa+DinuhwKMxtl5w/4E+fcL6Liu/62Kprfi8r7cd6F0RYGTl9p+zm6dvcgT23zNve3gEfN7MtmNgZ8E3gl5zrtGzMz4EfAdefc94OvXgHORcvngJeD8mej3vEngM/8bVoPKYS2MJD6Sltdux3JXdsB6FF+mp1e5N8D/5h3fQ54Dn/Ozu3Tu8Cvo+lpYB54HXg/ms9F6xvwL9E5/wZ4XNoeLX2lra7dQddWT6gKIUQByTssI4QQIgNk7kIIUUBk7kIIUUBk7kIIUUBk7kIIUUBk7kIIUUBk7kIIUUBk7kIIUUD+H1XLdFk3D+2iAAAAAElFTkSuQmCC\n",
      "text/plain": [
       "<Figure size 432x288 with 4 Axes>"
      ]
     },
     "metadata": {
      "needs_background": "light"
     },
     "output_type": "display_data"
    }
   ],
   "source": [
    "fig = plt.figure()\n",
    "a = fig.add_subplot(1, 4, 1)\n",
    "imgplot = plt.imshow(phantom_with_lesion[175,:,:],cmap='gray')\n",
    "a = fig.add_subplot(1, 4, 2)\n",
    "imgplot = plt.imshow(new_image[175,:,:],cmap='gray')\n",
    "a = fig.add_subplot(1, 4, 3)\n",
    "imgplot = plt.imshow(phantom_tumor_mask[175,:,:],cmap='gray')\n",
    "a = fig.add_subplot(1, 4, 4)\n",
    "imgplot = plt.imshow(new_masked_image[175,:,:],cmap='gray')\n",
    "        "
   ]
  },
  {
   "cell_type": "code",
   "execution_count": null,
   "metadata": {},
   "outputs": [],
   "source": []
  }
 ],
 "metadata": {
  "kernelspec": {
   "display_name": "Python 3",
   "language": "python",
   "name": "python3"
  },
  "language_info": {
   "codemirror_mode": {
    "name": "ipython",
    "version": 3
   },
   "file_extension": ".py",
   "mimetype": "text/x-python",
   "name": "python",
   "nbconvert_exporter": "python",
   "pygments_lexer": "ipython3",
   "version": "3.7.0"
  }
 },
 "nbformat": 4,
 "nbformat_minor": 2
}
